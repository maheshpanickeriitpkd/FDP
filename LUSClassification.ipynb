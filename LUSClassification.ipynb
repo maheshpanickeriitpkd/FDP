{
  "nbformat": 4,
  "nbformat_minor": 0,
  "metadata": {
    "colab": {
      "name": "LUSClassification.ipynb",
      "provenance": [],
      "collapsed_sections": []
    },
    "kernelspec": {
      "name": "python3",
      "display_name": "Python 3"
    },
    "accelerator": "GPU"
  },
  "cells": [
    {
      "cell_type": "code",
      "metadata": {
        "id": "FNtO8DKXAfm_",
        "colab_type": "code",
        "colab": {
          "base_uri": "https://localhost:8080/",
          "height": 51
        },
        "outputId": "be36ae21-b54d-4b17-ed10-990c6b40aeb7"
      },
      "source": [
        "import os\n",
        "import tensorflow as tf\n",
        "from tensorflow.keras.preprocessing.image import ImageDataGenerator\n",
        "from imutils import paths\n",
        "import cv2\n",
        "import numpy as np\n",
        "from sklearn.preprocessing import LabelBinarizer\n",
        "from tensorflow.keras.callbacks import (\n",
        "    EarlyStopping, ModelCheckpoint, ReduceLROnPlateau\n",
        ")\n",
        "from tensorflow.keras.optimizers import Adam\n",
        "from tensorflow.keras.callbacks import Callback\n",
        "from sklearn.metrics import classification_report, confusion_matrix,balanced_accuracy_score\n",
        "from matplotlib import pyplot as plt\n",
        "import seaborn as sns\n",
        "from tensorflow.keras.models import load_model"
      ],
      "execution_count": 1,
      "outputs": [
        {
          "output_type": "stream",
          "text": [
            "/usr/local/lib/python3.6/dist-packages/statsmodels/tools/_testing.py:19: FutureWarning: pandas.util.testing is deprecated. Use the functions in the public API at pandas.testing instead.\n",
            "  import pandas.util.testing as tm\n"
          ],
          "name": "stderr"
        }
      ]
    },
    {
      "cell_type": "code",
      "metadata": {
        "id": "d-C-JHGKAnBv",
        "colab_type": "code",
        "colab": {
          "base_uri": "https://localhost:8080/",
          "height": 122
        },
        "outputId": "08fa6016-99b7-4a9f-b2bf-36a78fe64cbf"
      },
      "source": [
        "from google.colab import drive\n",
        "drive.mount('/content/drive')"
      ],
      "execution_count": 2,
      "outputs": [
        {
          "output_type": "stream",
          "text": [
            "Go to this URL in a browser: https://accounts.google.com/o/oauth2/auth?client_id=947318989803-6bn6qk8qdgf4n4g3pfee6491hc0brc4i.apps.googleusercontent.com&redirect_uri=urn%3aietf%3awg%3aoauth%3a2.0%3aoob&response_type=code&scope=email%20https%3a%2f%2fwww.googleapis.com%2fauth%2fdocs.test%20https%3a%2f%2fwww.googleapis.com%2fauth%2fdrive%20https%3a%2f%2fwww.googleapis.com%2fauth%2fdrive.photos.readonly%20https%3a%2f%2fwww.googleapis.com%2fauth%2fpeopleapi.readonly\n",
            "\n",
            "Enter your authorization code:\n",
            "··········\n",
            "Mounted at /content/drive\n"
          ],
          "name": "stdout"
        }
      ]
    },
    {
      "cell_type": "code",
      "metadata": {
        "id": "pvvgCMV4GCsB",
        "colab_type": "code",
        "colab": {}
      },
      "source": [
        "dir_path_train='/content/drive/My Drive/Colab Notebooks/US_Data/train' \n",
        "dir_path_test='/content/drive/My Drive/Colab Notebooks/US_Data/test' "
      ],
      "execution_count": 4,
      "outputs": []
    },
    {
      "cell_type": "code",
      "metadata": {
        "id": "DXWhr4S5GTJt",
        "colab_type": "code",
        "colab": {}
      },
      "source": [
        "imagePathsTrain = list(paths.list_images(dir_path_train))\n",
        "imagePathsTest = list(paths.list_images(dir_path_test))\n",
        "train_labels, test_labels = [], []\n",
        "train_data, test_data = [], []\n",
        "IMG_WIDTH, IMG_HEIGHT=224,224"
      ],
      "execution_count": 5,
      "outputs": []
    },
    {
      "cell_type": "code",
      "metadata": {
        "id": "DdgcZGjFGqJN",
        "colab_type": "code",
        "colab": {}
      },
      "source": [
        "for imagePath in imagePathsTrain:\n",
        "\n",
        "    path_parts = imagePath.split(os.path.sep)\n",
        "    # extract the split\n",
        "    train_test = path_parts[-3][-1]\n",
        "    # extract the class label from the filename\n",
        "    label = path_parts[-2]\n",
        "    # load the image, swap color channels, and resize it to be a fixed\n",
        "    # 224x224 pixels while ignoring aspect ratio\n",
        "    image = cv2.imread(imagePath)\n",
        "    #image = cv2.cvtColor(image, cv2.COLOR_BGR2RGB)\n",
        "    image = cv2.resize(image, (IMG_WIDTH, IMG_HEIGHT))\n",
        "\n",
        "    train_labels.append(label)\n",
        "    train_data.append(image)   "
      ],
      "execution_count": 6,
      "outputs": []
    },
    {
      "cell_type": "code",
      "metadata": {
        "id": "QQ6SBJrvG6f9",
        "colab_type": "code",
        "colab": {}
      },
      "source": [
        "for imagePath in imagePathsTest:\n",
        "\n",
        "    path_parts = imagePath.split(os.path.sep)\n",
        "    # extract the split\n",
        "    train_test = path_parts[-3][-1]\n",
        "    # extract the class label from the filename\n",
        "    label = path_parts[-2]\n",
        "    # load the image, swap color channels, and resize it to be a fixed\n",
        "    # 224x224 pixels while ignoring aspect ratio\n",
        "    image = cv2.imread(imagePath)\n",
        "    #image = cv2.cvtColor(image, cv2.COLOR_BGR2RGB)\n",
        "    image = cv2.resize(image, (IMG_WIDTH, IMG_HEIGHT))\n",
        "\n",
        "    test_labels.append(label)\n",
        "    test_data.append(image)"
      ],
      "execution_count": 7,
      "outputs": []
    },
    {
      "cell_type": "code",
      "metadata": {
        "id": "Hna1O7qnHpS9",
        "colab_type": "code",
        "colab": {
          "base_uri": "https://localhost:8080/",
          "height": 286
        },
        "outputId": "2637eef2-31cc-44dc-a4e9-b8b8674a4a5e"
      },
      "source": [
        "idx=25\n",
        "plt.imshow(train_data[idx])\n",
        "print(train_labels[idx])"
      ],
      "execution_count": 8,
      "outputs": [
        {
          "output_type": "stream",
          "text": [
            "Class1\n"
          ],
          "name": "stdout"
        },
        {
          "output_type": "display_data",
          "data": {
            "image/png": "[encoded data removed]",
            "text/plain": [
              "<Figure size 432x288 with 1 Axes>"
            ]
          },
          "metadata": {
            "tags": [],
            "needs_background": "light"
          }
        }
      ]
    },
    {
      "cell_type": "code",
      "metadata": {
        "id": "u_-VC830I3ft",
        "colab_type": "code",
        "colab": {}
      },
      "source": [
        "train_data = np.array(train_data) / 255.0\n",
        "test_data = np.array(test_data) / 255.0\n",
        "train_labels_text = np.array(train_labels)\n",
        "test_labels_text = np.array(test_labels)\n",
        "num_classes = len(set(train_labels))"
      ],
      "execution_count": 9,
      "outputs": []
    },
    {
      "cell_type": "code",
      "metadata": {
        "id": "-V9prA2OJUwt",
        "colab_type": "code",
        "colab": {
          "base_uri": "https://localhost:8080/",
          "height": 34
        },
        "outputId": "16fd90eb-e295-4040-8c49-dc2a0deaa58c"
      },
      "source": [
        "lb = LabelBinarizer()\n",
        "lb.fit(train_labels_text)\n",
        "train_labels = lb.transform(train_labels_text)\n",
        "test_labels = lb.transform(test_labels_text)\n",
        "print('Class mappings are:', lb.classes_)"
      ],
      "execution_count": 10,
      "outputs": [
        {
          "output_type": "stream",
          "text": [
            "Class mappings are: ['Class0' 'Class1']\n"
          ],
          "name": "stdout"
        }
      ]
    },
    {
      "cell_type": "code",
      "metadata": {
        "id": "gcj3JadpQ8A-",
        "colab_type": "code",
        "colab": {
          "base_uri": "https://localhost:8080/",
          "height": 51
        },
        "outputId": "d381ee0b-90c2-4015-f2ac-caac8c73e790"
      },
      "source": [
        "from tensorflow.keras.applications import VGG16\n",
        "from tensorflow.keras.layers import (\n",
        "    AveragePooling2D, Dense, Dropout, Flatten, Input, BatchNormalization, ReLU\n",
        ")\n",
        "from tensorflow.keras.models import Model\n",
        "hidden_size=64\n",
        "dropout = 0.5\n",
        "\n",
        "# load the VGG16 network, ensuring the head FC layer sets are left off\n",
        "baseModel = VGG16(\n",
        "    weights=\"imagenet\",\n",
        "    include_top=False,\n",
        "    input_tensor=Input(shape=(IMG_WIDTH, IMG_HEIGHT,3))\n",
        ")\n",
        "# construct the head of the model that will be placed on top of the\n",
        "# the base model\n",
        "hidden = baseModel.output\n",
        "hidden = Flatten(name=\"flatten\")(hidden)\n",
        "hidden = Dense(hidden_size)(hidden)\n",
        "hidden = BatchNormalization()(hidden)\n",
        "hidden = ReLU()(hidden)\n",
        "hidden = Dropout(dropout)(hidden)    \n",
        "output = Dense(num_classes, activation=\"softmax\")(hidden)\n",
        "\n",
        "# place the head FC model on top of the base model\n",
        "model = Model(inputs=baseModel.input, outputs=output)"
      ],
      "execution_count": 11,
      "outputs": [
        {
          "output_type": "stream",
          "text": [
            "Downloading data from https://storage.googleapis.com/tensorflow/keras-applications/vgg16/vgg16_weights_tf_dim_ordering_tf_kernels_notop.h5\n",
            "58892288/58889256 [==============================] - 2s 0us/step\n"
          ],
          "name": "stdout"
        }
      ]
    },
    {
      "cell_type": "code",
      "metadata": {
        "id": "kOXpDzcZR3PN",
        "colab_type": "code",
        "colab": {}
      },
      "source": [
        "num_layers = len(model.layers)\n",
        "for ind, layer in enumerate(model.layers):\n",
        "    if ind < num_layers - 5:\n",
        "        layer.trainable = False"
      ],
      "execution_count": 12,
      "outputs": []
    },
    {
      "cell_type": "code",
      "metadata": {
        "id": "B7xYmu2JR4qm",
        "colab_type": "code",
        "colab": {
          "base_uri": "https://localhost:8080/",
          "height": 1000
        },
        "outputId": "2c0a0b1b-22f7-4690-b685-630b4ca87b4a"
      },
      "source": [
        "model.summary()"
      ],
      "execution_count": 13,
      "outputs": [
        {
          "output_type": "stream",
          "text": [
            "Model: \"model\"\n",
            "_________________________________________________________________\n",
            "Layer (type)                 Output Shape              Param #   \n",
            "=================================================================\n",
            "input_1 (InputLayer)         [(None, 224, 224, 3)]     0         \n",
            "_________________________________________________________________\n",
            "block1_conv1 (Conv2D)        (None, 224, 224, 64)      1792      \n",
            "_________________________________________________________________\n",
            "block1_conv2 (Conv2D)        (None, 224, 224, 64)      36928     \n",
            "_________________________________________________________________\n",
            "block1_pool (MaxPooling2D)   (None, 112, 112, 64)      0         \n",
            "_________________________________________________________________\n",
            "block2_conv1 (Conv2D)        (None, 112, 112, 128)     73856     \n",
            "_________________________________________________________________\n",
            "block2_conv2 (Conv2D)        (None, 112, 112, 128)     147584    \n",
            "_________________________________________________________________\n",
            "block2_pool (MaxPooling2D)   (None, 56, 56, 128)       0         \n",
            "_________________________________________________________________\n",
            "block3_conv1 (Conv2D)        (None, 56, 56, 256)       295168    \n",
            "_________________________________________________________________\n",
            "block3_conv2 (Conv2D)        (None, 56, 56, 256)       590080    \n",
            "_________________________________________________________________\n",
            "block3_conv3 (Conv2D)        (None, 56, 56, 256)       590080    \n",
            "_________________________________________________________________\n",
            "block3_pool (MaxPooling2D)   (None, 28, 28, 256)       0         \n",
            "_________________________________________________________________\n",
            "block4_conv1 (Conv2D)        (None, 28, 28, 512)       1180160   \n",
            "_________________________________________________________________\n",
            "block4_conv2 (Conv2D)        (None, 28, 28, 512)       2359808   \n",
            "_________________________________________________________________\n",
            "block4_conv3 (Conv2D)        (None, 28, 28, 512)       2359808   \n",
            "_________________________________________________________________\n",
            "block4_pool (MaxPooling2D)   (None, 14, 14, 512)       0         \n",
            "_________________________________________________________________\n",
            "block5_conv1 (Conv2D)        (None, 14, 14, 512)       2359808   \n",
            "_________________________________________________________________\n",
            "block5_conv2 (Conv2D)        (None, 14, 14, 512)       2359808   \n",
            "_________________________________________________________________\n",
            "block5_conv3 (Conv2D)        (None, 14, 14, 512)       2359808   \n",
            "_________________________________________________________________\n",
            "block5_pool (MaxPooling2D)   (None, 7, 7, 512)         0         \n",
            "_________________________________________________________________\n",
            "flatten (Flatten)            (None, 25088)             0         \n",
            "_________________________________________________________________\n",
            "dense (Dense)                (None, 64)                1605696   \n",
            "_________________________________________________________________\n",
            "batch_normalization (BatchNo (None, 64)                256       \n",
            "_________________________________________________________________\n",
            "re_lu (ReLU)                 (None, 64)                0         \n",
            "_________________________________________________________________\n",
            "dropout (Dropout)            (None, 64)                0         \n",
            "_________________________________________________________________\n",
            "dense_1 (Dense)              (None, 2)                 130       \n",
            "=================================================================\n",
            "Total params: 16,320,770\n",
            "Trainable params: 1,605,954\n",
            "Non-trainable params: 14,714,816\n",
            "_________________________________________________________________\n"
          ],
          "name": "stdout"
        }
      ]
    },
    {
      "cell_type": "code",
      "metadata": {
        "id": "VOc8a-fjS2bv",
        "colab_type": "code",
        "colab": {
          "base_uri": "https://localhost:8080/",
          "height": 187
        },
        "outputId": "0bc6f89c-4da7-4389-a985-2d271731bf2e"
      },
      "source": [
        "opt = Adam(learning_rate=0.01)\n",
        "EPOCHS=20\n",
        "BATCH_SIZE=64\n",
        "model.compile(optimizer=opt,loss='sparse_categorical_crossentropy',metrics=['accuracy'])\n",
        "H=model.fit(x=train_data,y=train_labels,batch_size=BATCH_SIZE,epochs=EPOCHS,validation_data=(test_data,test_labels))"
      ],
      "execution_count": 26,
      "outputs": [
        {
          "output_type": "stream",
          "text": [
            "Epoch 1/5\n",
            "3/3 [==============================] - 2s 612ms/step - loss: 0.0014 - accuracy: 1.0000 - val_loss: 2.6805 - val_accuracy: 0.7391\n",
            "Epoch 2/5\n",
            "3/3 [==============================] - 2s 532ms/step - loss: 6.7822e-05 - accuracy: 1.0000 - val_loss: 2.7333 - val_accuracy: 0.7391\n",
            "Epoch 3/5\n",
            "3/3 [==============================] - 2s 535ms/step - loss: 5.9056e-04 - accuracy: 1.0000 - val_loss: 2.5876 - val_accuracy: 0.7391\n",
            "Epoch 4/5\n",
            "3/3 [==============================] - 2s 536ms/step - loss: 8.3947e-05 - accuracy: 1.0000 - val_loss: 2.4681 - val_accuracy: 0.7391\n",
            "Epoch 5/5\n",
            "3/3 [==============================] - 2s 530ms/step - loss: 1.2179e-04 - accuracy: 1.0000 - val_loss: 2.3334 - val_accuracy: 0.7391\n"
          ],
          "name": "stdout"
        }
      ]
    },
    {
      "cell_type": "code",
      "metadata": {
        "id": "b-8wZvlHGJ4Y",
        "colab_type": "code",
        "colab": {}
      },
      "source": [
        "trainAug = ImageDataGenerator(\n",
        "    rotation_range=10,\n",
        "    fill_mode='nearest',\n",
        "    horizontal_flip=True,\n",
        "    vertical_flip=True,\n",
        "    width_shift_range=0.1,\n",
        "    height_shift_range=0.1\n",
        ")"
      ],
      "execution_count": null,
      "outputs": []
    },
    {
      "cell_type": "code",
      "metadata": {
        "id": "GF8m3pbrF8Si",
        "colab_type": "code",
        "colab": {}
      },
      "source": [
        "H=model.fit(trainAug.flow(train_data, train_labels, batch_size=BATCH_SIZE),batch_size=BATCH_SIZE,epochs=EPOCHS,validation_data=(test_data,test_labels))"
      ],
      "execution_count": null,
      "outputs": []
    },
    {
      "cell_type": "code",
      "metadata": {
        "id": "gmNFe7dbfWTa",
        "colab_type": "code",
        "colab": {
          "base_uri": "https://localhost:8080/",
          "height": 316
        },
        "outputId": "c69724c6-ce5d-4d87-ec66-0f20e70abab2"
      },
      "source": [
        "N = EPOCHS\n",
        "plt.style.use('ggplot')\n",
        "plt.figure()\n",
        "plt.plot(np.arange(0, N), H.history['loss'], label='train_loss')\n",
        "plt.plot(np.arange(0, N), H.history['val_loss'], label='val_loss')\n",
        "plt.plot(np.arange(0, N), H.history['accuracy'], label='train_acc')\n",
        "plt.plot(np.arange(0, N), H.history['val_accuracy'], label='val_acc')\n",
        "plt.title('Training Loss and Accuracy on COVID-19 Dataset')\n",
        "plt.xlabel('Epoch #')\n",
        "plt.ylabel('Loss/Accuracy')\n",
        "plt.legend(loc='lower left')"
      ],
      "execution_count": 17,
      "outputs": [
        {
          "output_type": "execute_result",
          "data": {
            "text/plain": [
              "<matplotlib.legend.Legend at 0x7f7fa90f90f0>"
            ]
          },
          "metadata": {
            "tags": []
          },
          "execution_count": 17
        },
        {
          "output_type": "display_data",
          "data": {
            "image/png": "[encoded data removed]",
            "text/plain": [
              "<Figure size 432x288 with 1 Axes>"
            ]
          },
          "metadata": {
            "tags": []
          }
        }
      ]
    },
    {
      "cell_type": "code",
      "metadata": {
        "id": "bKuD8M4EdH_P",
        "colab_type": "code",
        "colab": {
          "base_uri": "https://localhost:8080/",
          "height": 204
        },
        "outputId": "fd7adeb4-1c00-4d8f-dffe-02b53f2c01cc"
      },
      "source": [
        "print('Evaluating network...')\n",
        "predIdxs = model.predict(test_data, batch_size=BATCH_SIZE)\n",
        "\n",
        "# for each image in the testing set we need to find the index of the\n",
        "# label with corresponding largest predicted probability\n",
        "predIdxs = np.argmax(predIdxs, axis=1)\n",
        "\n",
        "print('classification report sklearn:')\n",
        "print(\n",
        "    classification_report(\n",
        "        test_labels, predIdxs, target_names=lb.classes_\n",
        "    )\n",
        ")"
      ],
      "execution_count": 18,
      "outputs": [
        {
          "output_type": "stream",
          "text": [
            "Evaluating network...\n",
            "classification report sklearn:\n",
            "              precision    recall  f1-score   support\n",
            "\n",
            "      Class0       0.42      0.71      0.53        14\n",
            "      Class1       0.91      0.75      0.82        55\n",
            "\n",
            "    accuracy                           0.74        69\n",
            "   macro avg       0.66      0.73      0.67        69\n",
            "weighted avg       0.81      0.74      0.76        69\n",
            "\n"
          ],
          "name": "stdout"
        }
      ]
    },
    {
      "cell_type": "code",
      "metadata": {
        "id": "DJgSRit3ATRj",
        "colab_type": "code",
        "colab": {
          "base_uri": "https://localhost:8080/",
          "height": 68
        },
        "outputId": "39c3d490-03c8-486a-f80e-6f0417fa906b"
      },
      "source": [
        "print('confusion matrix:')\n",
        "cm = confusion_matrix(test_labels, predIdxs)\n",
        "# show the confusion matrix, accuracy, sensitivity, and specificity\n",
        "print(cm)"
      ],
      "execution_count": 20,
      "outputs": [
        {
          "output_type": "stream",
          "text": [
            "confusion matrix:\n",
            "[[10  4]\n",
            " [14 41]]\n"
          ],
          "name": "stdout"
        }
      ]
    },
    {
      "cell_type": "code",
      "metadata": {
        "id": "MvrCFXUhFynQ",
        "colab_type": "code",
        "colab": {
          "base_uri": "https://localhost:8080/",
          "height": 34
        },
        "outputId": "62ebd0c0-60f2-43ee-841c-a34330a1f4c3"
      },
      "source": [
        "len(train_data)"
      ],
      "execution_count": 27,
      "outputs": [
        {
          "output_type": "execute_result",
          "data": {
            "text/plain": [
              "166"
            ]
          },
          "metadata": {
            "tags": []
          },
          "execution_count": 27
        }
      ]
    },
    {
      "cell_type": "code",
      "metadata": {
        "id": "1N4QT9-sGXaN",
        "colab_type": "code",
        "colab": {}
      },
      "source": [
        ""
      ],
      "execution_count": null,
      "outputs": []
    }
  ]
}